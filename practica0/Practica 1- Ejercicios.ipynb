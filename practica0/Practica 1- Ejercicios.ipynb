{
 "cells": [
  {
   "cell_type": "markdown",
   "metadata": {},
   "source": [
    "# Practica 1\n",
    "#### Alex Chocho\n"
   ]
  },
  {
   "cell_type": "markdown",
   "metadata": {},
   "source": [
    "## Ejercicio 1\n",
    "**Crear un diccionario de tareas diarias llamado `lunes` con las llaves\n",
    "`trabajo`, `cocinar`, `comprar` y `dormir` (o lo que sea que hagan en el transcurso de un día).** \n",
    "\n",
    "**Cada uno de los elementos también debe ser una lista de dos o tres actividades \n",
    "basadas en lo que podría hacer en un lunes típico. \n",
    "No es importante lo que esté en las listas, solo que completen el ejercicio.**\n",
    "    \n",
    "**Consejo:** Las listas se pueden usar como valores en los diccionarios.\n",
    "\n",
    "Pueden escribir su código en la celda a continuación, pero cópienlo en un nuevo notebook para que lo pueda revisar."
   ]
  },
  {
   "cell_type": "code",
   "execution_count": 3,
   "metadata": {
    "scrolled": true
   },
   "outputs": [],
   "source": [
    "trabajo= [\"revisar firewall\", \"Crear Vlans\",\"levantar VMs\"]\n",
    "cocinar= [\"cocinar carne\", \"cocinar arroz\",\"hacer el jugo\"]\n",
    "comprar= [\"pan\", \"cafe\",\"vitaminas\"]\n",
    "dormir=[\"a las 13h00\", \"a las 19h00\"]\n",
    "lunes = {\"Trabajo\" : trabajo,\"Cocinar\": cocinar, \"Comprar\":comprar,\"Dormir\":dormir}\n"
   ]
  },
  {
   "cell_type": "markdown",
   "metadata": {},
   "source": [
    "## Ejercicio 2\n",
    "\n",
    "**Escribir un bucle que recorra los elementos de las tareas de su diccionario `lunes` (del ejercicio 1) \n",
    "y que realice las siguientes operaciones en cada etapa del bucle:**\n",
    "\n",
    "1. **Imprimir la cadena \"Actividad:\" seguida del nombre del elemento actual en el diccionario**.\n",
    "\n",
    "2. **Imprimir la cadena \"Tareas:\" seguida de la lista de tareas asociada con la actividad actual.**\n",
    "\n",
    "**El resultado de su programa debería verse algo así (no tiene que verse exactamente igual y hay _algunas_ maneras de hacerlo):**\n"
   ]
  },
  {
   "cell_type": "code",
   "execution_count": 4,
   "metadata": {},
   "outputs": [
    {
     "name": "stdout",
     "output_type": "stream",
     "text": [
      "Actividad:  Trabajo\n",
      "Tareas:  ['revisar firewall', 'Crear Vlans', 'levantar VMs']\n",
      "Actividad:  Cocinar\n",
      "Tareas:  ['cocinar carne', 'cocinar arroz', 'hacer el jugo']\n",
      "Actividad:  Comprar\n",
      "Tareas:  ['pan', 'cafe', 'vitaminas']\n",
      "Actividad:  Dormir\n",
      "Tareas:  ['a las 13h00', 'a las 19h00']\n"
     ]
    }
   ],
   "source": [
    "k = lunes .keys()\n",
    "for actividad in k :\n",
    "    print ('Actividad: ', actividad)\n",
    "    print ('Tareas: ',lunes[actividad])"
   ]
  },
  {
   "cell_type": "code",
   "execution_count": null,
   "metadata": {},
   "outputs": [],
   "source": []
  }
 ],
 "metadata": {
  "kernelspec": {
   "display_name": "Python 3",
   "language": "python",
   "name": "python3"
  },
  "language_info": {
   "codemirror_mode": {
    "name": "ipython",
    "version": 3
   },
   "file_extension": ".py",
   "mimetype": "text/x-python",
   "name": "python",
   "nbconvert_exporter": "python",
   "pygments_lexer": "ipython3",
   "version": "3.7.6"
  }
 },
 "nbformat": 4,
 "nbformat_minor": 4
}
